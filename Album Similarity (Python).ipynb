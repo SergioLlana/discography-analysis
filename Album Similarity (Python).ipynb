{
 "cells": [
  {
   "cell_type": "code",
   "execution_count": 2,
   "metadata": {},
   "outputs": [],
   "source": [
    "import pandas as pd\n",
    "import json\n",
    "\n",
    "\n",
    "def read_json(path):\n",
    "    try:\n",
    "        with open(path, 'r') as f:\n",
    "            return json.loads(f.read())\n",
    "    except Exception:\n",
    "        return {}\n",
    "\n",
    "    \n",
    "paths = [\"data/data_AM.json\", \"data/data_FF.json\", \"data/data_TLSP.json\"]\n",
    "songs = [song for path in paths for song in read_json(path) if song[\"chords\"] != \"\"]\n",
    "songs_df = pd.DataFrame(songs)"
   ]
  },
  {
   "cell_type": "code",
   "execution_count": 3,
   "metadata": {},
   "outputs": [],
   "source": [
    "from functools import reduce\n",
    "\n",
    "\n",
    "def aggregate_chords(chords):\n",
    "    return reduce(lambda x, y: \"{0}\\n{1}\".format(x, y), chords)\n",
    "\n",
    "\n",
    "albums_df = songs_df.groupby(by=[\"artist\", \"album\"]).agg({\n",
    "    \"acousticness\": \"mean\", \"danceability\": \"mean\", \"duration_s\": \"mean\",\n",
    "    \"energy\": \"mean\", \"tempo\": \"mean\", \"valence\": \"mean\", \n",
    "    \"chords\": aggregate_chords\n",
    "})"
   ]
  },
  {
   "cell_type": "code",
   "execution_count": 4,
   "metadata": {},
   "outputs": [],
   "source": [
    "import networkx as nx\n",
    "\n",
    "\n",
    "graphs = {}\n",
    "for key, row in albums_df.iterrows():\n",
    "    graph = nx.DiGraph()\n",
    "    chord_list = row[\"chords\"].split(\"\\n\")\n",
    "    \n",
    "    # Add all nodes of the album\n",
    "    nodes = set(chord for song in chord_list for chord in song)\n",
    "    graph.add_nodes_from(nodes)\n",
    "    \n",
    "    # Add edges song by song\n",
    "    # Note that the last chord of a song is not connected with the first one of the following one\n",
    "    for song_chords in chord_list:\n",
    "        song_edges = [(song_chords[i], song_chords[i+1]) for i in range(len(song_chords)-1)]\n",
    "        graph.add_edges_from(song_edges)\n",
    "            \n",
    "    graphs[key] = graph"
   ]
  },
  {
   "cell_type": "code",
   "execution_count": null,
   "metadata": {},
   "outputs": [],
   "source": [
    "from itertools import combinations\n",
    "\n",
    "\n",
    "# Compute similarities between all 2-combinations of albums using edit distance \n",
    "similarities = {}\n",
    "for album1, album2 in combinations(graphs.keys(), 2):\n",
    "    edit_distance = min(sim for sim in nx.optimize_graph_edit_distance(graphs[album1], graphs[album2]))\n",
    "    similarities[(album1, album2)] = edit_distance"
   ]
  },
  {
   "cell_type": "code",
   "execution_count": null,
   "metadata": {},
   "outputs": [],
   "source": []
  }
 ],
 "metadata": {
  "kernelspec": {
   "display_name": "Python 3",
   "language": "python",
   "name": "python3"
  },
  "language_info": {
   "codemirror_mode": {
    "name": "ipython",
    "version": 3
   },
   "file_extension": ".py",
   "mimetype": "text/x-python",
   "name": "python",
   "nbconvert_exporter": "python",
   "pygments_lexer": "ipython3",
   "version": "3.6.4"
  }
 },
 "nbformat": 4,
 "nbformat_minor": 2
}
